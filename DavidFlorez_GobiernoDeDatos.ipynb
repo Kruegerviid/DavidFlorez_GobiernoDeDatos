{
  "nbformat": 4,
  "nbformat_minor": 0,
  "metadata": {
    "colab": {
      "provenance": [],
      "name": "DavidFlorez_GobiernoDeDatos.ipynb",
      "authorship_tag": "ABX9TyOTrec94sizoTnXoZxzrTtf",
      "include_colab_link": true
    },
    "kernelspec": {
      "name": "python3",
      "display_name": "Python 3"
    },
    "language_info": {
      "name": "python"
    }
  },
  "cells": [
    {
      "cell_type": "markdown",
      "metadata": {
        "id": "view-in-github",
        "colab_type": "text"
      },
      "source": [
        "<a href=\"https://colab.research.google.com/github/Kruegerviid/DavidFlorez_GobiernoDeDatos/blob/main/DavidFlorez_GobiernoDeDatos.ipynb\" target=\"_parent\"><img src=\"https://colab.research.google.com/assets/colab-badge.svg\" alt=\"Open In Colab\"/></a>"
      ]
    },
    {
      "cell_type": "code",
      "execution_count": null,
      "metadata": {
        "id": "F4eJvHxmbA56",
        "colab": {
          "base_uri": "https://localhost:8080/"
        },
        "outputId": "7f07baed-3d13-4d4c-8ff7-22ed39855138"
      },
      "outputs": [
        {
          "output_type": "stream",
          "name": "stdout",
          "text": [
            "5\n"
          ]
        }
      ],
      "source": [
        "a = 5\n",
        "print(a)"
      ]
    },
    {
      "cell_type": "markdown",
      "source": [],
      "metadata": {
        "id": "WDzGof5LdbPP"
      }
    },
    {
      "cell_type": "markdown",
      "source": [],
      "metadata": {
        "id": "uk4f8tX1dbZO"
      }
    },
    {
      "cell_type": "code",
      "source": [],
      "metadata": {
        "id": "THcne-flc623"
      },
      "execution_count": null,
      "outputs": []
    }
  ]
}